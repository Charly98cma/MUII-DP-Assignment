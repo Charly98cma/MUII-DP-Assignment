{
 "cells": [
  {
   "cell_type": "code",
   "execution_count": 1,
   "id": "53e9cab5",
   "metadata": {},
   "outputs": [],
   "source": [
    "import pandas as pd\n",
    "import matplotlib.pyplot as plt\n",
    "import math\n",
    "from lifelines import KaplanMeierFitter\n"
   ]
  },
  {
   "cell_type": "code",
   "execution_count": 45,
   "id": "d61a8d08",
   "metadata": {},
   "outputs": [],
   "source": [
    "# Lectura de los datos\n",
    "df = pd.read_csv('csv/COVID19_data.csv', index_col='ID')"
   ]
  },
  {
   "cell_type": "code",
   "execution_count": 3,
   "id": "65de3b64",
   "metadata": {},
   "outputs": [
    {
     "name": "stdout",
     "output_type": "stream",
     "text": [
      "AGE                 True\n",
      "SEX                 True\n",
      "DAYS_HOSPITAL      False\n",
      "DAYS_ICU           False\n",
      "EXITUS              True\n",
      "TEMP               False\n",
      "HEART_RATE         False\n",
      "SAT_O2             False\n",
      "BLOOD_PRES_SYS     False\n",
      "BLOOD_PRES_DIAS    False\n",
      "dtype: bool\n",
      "\n",
      "         SEX EXITUS\n",
      "ID                 \n",
      "1     FEMALE     NO\n",
      "2     FEMALE     NO\n",
      "3       MALE     NO\n",
      "4       MALE     NO\n",
      "5       MALE     NO\n",
      "...      ...    ...\n",
      "2046  FEMALE    YES\n",
      "2047  FEMALE    YES\n",
      "2048  FEMALE     NO\n",
      "2049  FEMALE    YES\n",
      "2052  FEMALE     NO\n",
      "\n",
      "[1551 rows x 2 columns]\n",
      "\n",
      "        AGE  DAYS_HOSPITAL  DAYS_ICU  TEMP  HEART_RATE  SAT_O2  \\\n",
      "ID                                                               \n",
      "1      15.0              4         0  37.0           0      92   \n",
      "2      18.0              4         0  37.3         105      97   \n",
      "3      21.0              7         0  38.5         112      95   \n",
      "4      21.0             10         0  39.2         113      97   \n",
      "5      22.0              4         0  36.3          80      92   \n",
      "...     ...            ...       ...   ...         ...     ...   \n",
      "2046  101.0              2         0  36.8          84      95   \n",
      "2047  102.0              5         0  36.5          83      94   \n",
      "2048  105.0              4         0  36.4          74      98   \n",
      "2049  106.0              5         0  38.2          89      98   \n",
      "2052    NaN              6         6  36.8         190      98   \n",
      "\n",
      "      BLOOD_PRES_SYS  BLOOD_PRES_DIAS  \n",
      "ID                                     \n",
      "1                  0                0  \n",
      "2                  0                0  \n",
      "3                 85               47  \n",
      "4                  0                0  \n",
      "5                111               70  \n",
      "...              ...              ...  \n",
      "2046             110               65  \n",
      "2047             150               65  \n",
      "2048             169               97  \n",
      "2049             143               63  \n",
      "2052               0                0  \n",
      "\n",
      "[1551 rows x 8 columns]\n"
     ]
    }
   ],
   "source": [
    "# Preprocessing of the data\n",
    "# Deleted column due to too many null/missing values\n",
    "df.pop('DESTINATION')\n",
    "# Deleted column due to too many null values (0's)\n",
    "df.pop('GLUCOSE')\n",
    "\n",
    "# Deletion of rows with error values for temperature, blood_pres and sat_o2\n",
    "df = df.drop(df[df['TEMP'] <= 10].index)\n",
    "df = df.drop(df[df['BLOOD_PRES_SYS'] >= 300].index)\n",
    "df = df.drop(df[df['BLOOD_PRES_DIAS'] >= 150].index)\n",
    "\n",
    "# Check which columns have null values\n",
    "print(df.isnull().any())\n",
    "print()\n",
    "# Spit data frame between categorical and numerical variables in order to treat null values in categorical variables\n",
    "cat_mask = (df.dtypes == object)\n",
    "\n",
    "cat_cols = df.columns[cat_mask].tolist()\n",
    "\n",
    "df_cat = df[cat_cols]\n",
    "df_num = df.drop(cat_cols, axis = 1)\n",
    "\n",
    "print(df_cat)\n",
    "print()\n",
    "print(df_num)"
   ]
  },
  {
   "cell_type": "code",
   "execution_count": 4,
   "id": "2ac8eb86",
   "metadata": {},
   "outputs": [
    {
     "name": "stdout",
     "output_type": "stream",
     "text": [
      "SEX       False\n",
      "EXITUS    False\n",
      "dtype: bool\n"
     ]
    }
   ],
   "source": [
    "# Transformation of missing values in categorical data frame\n",
    "\n",
    "from sklearn.impute import SimpleImputer\n",
    "\n",
    "imp_cat = SimpleImputer(strategy='most_frequent')\n",
    "columns = df_cat.columns\n",
    "index = df_cat.index\n",
    "df_cat = pd.DataFrame(imp_cat.fit_transform(df_cat), columns = columns, index = index) \n",
    "\n",
    "print(df_cat.isnull().any())"
   ]
  },
  {
   "cell_type": "code",
   "execution_count": 5,
   "id": "1a484904",
   "metadata": {},
   "outputs": [
    {
     "name": "stdout",
     "output_type": "stream",
     "text": [
      "      SEX  EXITUS\n",
      "ID               \n",
      "1       0       0\n",
      "2       0       0\n",
      "3       1       0\n",
      "4       1       0\n",
      "5       1       0\n",
      "...   ...     ...\n",
      "2046    0       1\n",
      "2047    0       1\n",
      "2048    0       0\n",
      "2049    0       1\n",
      "2052    0       0\n",
      "\n",
      "[1551 rows x 2 columns]\n"
     ]
    }
   ],
   "source": [
    "# Next we are going to transform the variables to numerical. Due to being both binary variables,\n",
    "# a value will be assigned to each category for simplicity.\n",
    "# For Sex 0 = Female, 1 = Male; for Exitus 0 = No, 1 = Yes\n",
    "\n",
    "from sklearn import preprocessing\n",
    "from collections import defaultdict\n",
    "\n",
    "d = defaultdict(preprocessing.LabelEncoder)\n",
    "\n",
    "df_cat_le = df_cat.apply(lambda col: d[col.name].fit_transform(col))\n",
    "print(df_cat_le)"
   ]
  },
  {
   "cell_type": "code",
   "execution_count": 6,
   "id": "92bb70a4",
   "metadata": {
    "scrolled": false
   },
   "outputs": [
    {
     "name": "stdout",
     "output_type": "stream",
     "text": [
      "AGE                False\n",
      "DAYS_HOSPITAL      False\n",
      "DAYS_ICU           False\n",
      "TEMP               False\n",
      "HEART_RATE         False\n",
      "SAT_O2             False\n",
      "BLOOD_PRES_SYS     False\n",
      "BLOOD_PRES_DIAS    False\n",
      "dtype: bool\n"
     ]
    }
   ],
   "source": [
    "# Now we are going to treat missing values in numerical variables\n",
    "\n",
    "imp_num = SimpleImputer(strategy='mean')\n",
    "columns = df_num.columns\n",
    "index = df_num.index\n",
    "df_num = pd.DataFrame(imp_num.fit_transform(df_num), columns = columns, index = index)\n",
    "\n",
    "print(df_num.isnull().any())"
   ]
  },
  {
   "cell_type": "code",
   "execution_count": 7,
   "id": "b695fcd3",
   "metadata": {},
   "outputs": [
    {
     "name": "stdout",
     "output_type": "stream",
     "text": [
      "False\n",
      "             AGE  DAYS_HOSPITAL  DAYS_ICU  TEMP  HEART_RATE  SAT_O2  \\\n",
      "ID                                                                    \n",
      "1      15.000000            4.0       0.0  37.0         0.0    92.0   \n",
      "2      18.000000            4.0       0.0  37.3       105.0    97.0   \n",
      "3      21.000000            7.0       0.0  38.5       112.0    95.0   \n",
      "4      21.000000           10.0       0.0  39.2       113.0    97.0   \n",
      "5      22.000000            4.0       0.0  36.3        80.0    92.0   \n",
      "...          ...            ...       ...   ...         ...     ...   \n",
      "2046  101.000000            2.0       0.0  36.8        84.0    95.0   \n",
      "2047  102.000000            5.0       0.0  36.5        83.0    94.0   \n",
      "2048  105.000000            4.0       0.0  36.4        74.0    98.0   \n",
      "2049  106.000000            5.0       0.0  38.2        89.0    98.0   \n",
      "2052   71.218065            6.0       6.0  36.8       190.0    98.0   \n",
      "\n",
      "      BLOOD_PRES_SYS  BLOOD_PRES_DIAS  \n",
      "ID                                     \n",
      "1         131.066502         75.09688  \n",
      "2         131.066502         75.09688  \n",
      "3          85.000000         47.00000  \n",
      "4         131.066502         75.09688  \n",
      "5         111.000000         70.00000  \n",
      "...              ...              ...  \n",
      "2046      110.000000         65.00000  \n",
      "2047      150.000000         65.00000  \n",
      "2048      169.000000         97.00000  \n",
      "2049      143.000000         63.00000  \n",
      "2052      131.066502         75.09688  \n",
      "\n",
      "[1551 rows x 8 columns]\n"
     ]
    }
   ],
   "source": [
    "# Now we are going to treat strange values (BLOOD_PRES_SYS = 0, BLOOD_PRES_DIAS = 0, SAT_O2 = 0)\n",
    "imp_num = SimpleImputer(missing_values=0.0, strategy='mean')\n",
    "columns = df_num.columns\n",
    "index = df_num.index\n",
    "df_tmp = pd.DataFrame(imp_num.fit_transform(df_num), columns = columns, index = index)\n",
    "# Use BLOOD_PRES and SAT_02 columns\n",
    "df_num['BLOOD_PRES_SYS'] = df_tmp.pop('BLOOD_PRES_SYS')\n",
    "df_num['BLOOD_PRES_DIAS'] = df_tmp.pop('BLOOD_PRES_DIAS')\n",
    "df_num['SAT_O2'] = df_tmp.pop('SAT_O2')\n",
    "\n",
    "print((0.0 in df_num))\n",
    "print(df_num)"
   ]
  },
  {
   "cell_type": "code",
   "execution_count": 8,
   "id": "8658aed7",
   "metadata": {},
   "outputs": [
    {
     "name": "stdout",
     "output_type": "stream",
     "text": [
      "      SEX  EXITUS         AGE  DAYS_HOSPITAL  DAYS_ICU  TEMP  HEART_RATE  \\\n",
      "ID                                                                         \n",
      "1       0       0   15.000000            4.0       0.0  37.0         0.0   \n",
      "2       0       0   18.000000            4.0       0.0  37.3       105.0   \n",
      "3       1       0   21.000000            7.0       0.0  38.5       112.0   \n",
      "4       1       0   21.000000           10.0       0.0  39.2       113.0   \n",
      "5       1       0   22.000000            4.0       0.0  36.3        80.0   \n",
      "...   ...     ...         ...            ...       ...   ...         ...   \n",
      "2046    0       1  101.000000            2.0       0.0  36.8        84.0   \n",
      "2047    0       1  102.000000            5.0       0.0  36.5        83.0   \n",
      "2048    0       0  105.000000            4.0       0.0  36.4        74.0   \n",
      "2049    0       1  106.000000            5.0       0.0  38.2        89.0   \n",
      "2052    0       0   71.218065            6.0       6.0  36.8       190.0   \n",
      "\n",
      "      SAT_O2  BLOOD_PRES_SYS  BLOOD_PRES_DIAS  \n",
      "ID                                             \n",
      "1       92.0      131.066502         75.09688  \n",
      "2       97.0      131.066502         75.09688  \n",
      "3       95.0       85.000000         47.00000  \n",
      "4       97.0      131.066502         75.09688  \n",
      "5       92.0      111.000000         70.00000  \n",
      "...      ...             ...              ...  \n",
      "2046    95.0      110.000000         65.00000  \n",
      "2047    94.0      150.000000         65.00000  \n",
      "2048    98.0      169.000000         97.00000  \n",
      "2049    98.0      143.000000         63.00000  \n",
      "2052    98.0      131.066502         75.09688  \n",
      "\n",
      "[1551 rows x 10 columns]\n"
     ]
    }
   ],
   "source": [
    "# Merge of the preprocessed data frames\n",
    "\n",
    "df_preprocessed = pd.merge(left= df_cat_le,\n",
    "                           right= df_num,\n",
    "                           on = 'ID')\n",
    "\n",
    "print(df_preprocessed)"
   ]
  },
  {
   "cell_type": "code",
   "execution_count": 47,
   "id": "c9e728ea",
   "metadata": {},
   "outputs": [
    {
     "data": {
      "image/png": "[encoded data removed]",
      "text/plain": [
       "<Figure size 1080x1080 with 10 Axes>"
      ]
     },
     "metadata": {
      "needs_background": "light"
     },
     "output_type": "display_data"
    }
   ],
   "source": [
    "# Exploratory analysis of the data so far\n",
    "\n",
    "# Distribution of the variables, univariate analysis\n",
    "# Aqui comentarios respecto a la distribucion de cada variable haciendo hincapie en\n",
    "# edad, exitus, dias en uci, dias en hospital, gluclosa, saturacion O2 y presion arterial (tanto sistolica como diastolica)\n",
    "# Descartamos sexo, temperatura y latidos del corazon al ser poco relevantes\n",
    "\n",
    "plt.figure(figsize=(15,15))\n",
    "\n",
    "plt.subplot(3,5,1)\n",
    "df_preprocessed['SEX'].value_counts().plot(kind=\"bar\", title = 'SEX')\n",
    "\n",
    "plt.subplot(3,5,2)\n",
    "df_preprocessed[\"EXITUS\"].value_counts().plot(kind=\"bar\", title = 'EXITUS')\n",
    "\n",
    "plt.subplot(3,5,3)\n",
    "df_preprocessed['AGE'].plot(kind=\"box\", title = 'AGE')\n",
    "\n",
    "plt.subplot(3,5,4)\n",
    "df_preprocessed['DAYS_HOSPITAL'].plot(kind=\"hist\", title = 'DAYS IN HOSPITAL')\n",
    "\n",
    "plt.subplot(3,5,5)\n",
    "df_preprocessed['DAYS_ICU'].plot(kind=\"hist\", title = 'DAYS IN ICU')\n",
    "\n",
    "plt.subplot(3,5,6)\n",
    "df_preprocessed['TEMP'].plot(kind=\"box\", title = 'TEMPERATURE')\n",
    "\n",
    "plt.subplot(3,5,7)\n",
    "df_preprocessed['HEART_RATE'].plot(kind=\"hist\", title = 'HEART RATE')\n",
    "\n",
    "plt.subplot(3,5,8)\n",
    "df_preprocessed['SAT_O2'].plot(kind=\"box\", title = 'ARTERIAL SATURATION OXYGEN')\n",
    "\n",
    "plt.subplot(3,5,9)\n",
    "df_preprocessed['BLOOD_PRES_SYS'].plot(kind=\"box\", title = 'BLOOD PRESURE SYSTOLIC')\n",
    "\n",
    "plt.subplot(3,5,10)\n",
    "df_preprocessed['BLOOD_PRES_DIAS'].plot(kind=\"box\", title = 'BLOOD PRESURE DIASTOLIC')\n",
    "\n",
    "plt.show()\n"
   ]
  },
  {
   "cell_type": "code",
   "execution_count": 10,
   "id": "749d8f3e",
   "metadata": {},
   "outputs": [
    {
     "data": {
      "text/html": [
       "<div>\n",
       "<style scoped>\n",
       "    .dataframe tbody tr th:only-of-type {\n",
       "        vertical-align: middle;\n",
       "    }\n",
       "\n",
       "    .dataframe tbody tr th {\n",
       "        vertical-align: top;\n",
       "    }\n",
       "\n",
       "    .dataframe thead th {\n",
       "        text-align: right;\n",
       "    }\n",
       "</style>\n",
       "<table border=\"1\" class=\"dataframe\">\n",
       "  <thead>\n",
       "    <tr style=\"text-align: right;\">\n",
       "      <th></th>\n",
       "      <th>SEX</th>\n",
       "      <th>EXITUS</th>\n",
       "      <th>AGE</th>\n",
       "      <th>DAYS_HOSPITAL</th>\n",
       "      <th>DAYS_ICU</th>\n",
       "      <th>TEMP</th>\n",
       "      <th>HEART_RATE</th>\n",
       "      <th>SAT_O2</th>\n",
       "      <th>BLOOD_PRES_SYS</th>\n",
       "      <th>BLOOD_PRES_DIAS</th>\n",
       "    </tr>\n",
       "  </thead>\n",
       "  <tbody>\n",
       "    <tr>\n",
       "      <th>count</th>\n",
       "      <td>1551.000000</td>\n",
       "      <td>1551.000000</td>\n",
       "      <td>1551.000000</td>\n",
       "      <td>1551.000000</td>\n",
       "      <td>1551.000000</td>\n",
       "      <td>1551.000000</td>\n",
       "      <td>1551.000000</td>\n",
       "      <td>1551.000000</td>\n",
       "      <td>1551.000000</td>\n",
       "      <td>1551.00000</td>\n",
       "    </tr>\n",
       "    <tr>\n",
       "      <th>mean</th>\n",
       "      <td>0.600258</td>\n",
       "      <td>0.152160</td>\n",
       "      <td>71.218065</td>\n",
       "      <td>7.948420</td>\n",
       "      <td>0.290135</td>\n",
       "      <td>36.735977</td>\n",
       "      <td>88.253385</td>\n",
       "      <td>92.613153</td>\n",
       "      <td>131.066502</td>\n",
       "      <td>75.09688</td>\n",
       "    </tr>\n",
       "    <tr>\n",
       "      <th>std</th>\n",
       "      <td>0.490003</td>\n",
       "      <td>0.359292</td>\n",
       "      <td>20.152968</td>\n",
       "      <td>5.433105</td>\n",
       "      <td>1.990532</td>\n",
       "      <td>0.813821</td>\n",
       "      <td>25.008765</td>\n",
       "      <td>6.422435</td>\n",
       "      <td>19.941586</td>\n",
       "      <td>11.27202</td>\n",
       "    </tr>\n",
       "    <tr>\n",
       "      <th>min</th>\n",
       "      <td>0.000000</td>\n",
       "      <td>0.000000</td>\n",
       "      <td>15.000000</td>\n",
       "      <td>0.000000</td>\n",
       "      <td>0.000000</td>\n",
       "      <td>33.200000</td>\n",
       "      <td>0.000000</td>\n",
       "      <td>44.000000</td>\n",
       "      <td>10.000000</td>\n",
       "      <td>31.00000</td>\n",
       "    </tr>\n",
       "    <tr>\n",
       "      <th>25%</th>\n",
       "      <td>0.000000</td>\n",
       "      <td>0.000000</td>\n",
       "      <td>57.000000</td>\n",
       "      <td>4.000000</td>\n",
       "      <td>0.000000</td>\n",
       "      <td>36.200000</td>\n",
       "      <td>78.000000</td>\n",
       "      <td>91.000000</td>\n",
       "      <td>121.000000</td>\n",
       "      <td>70.00000</td>\n",
       "    </tr>\n",
       "    <tr>\n",
       "      <th>50%</th>\n",
       "      <td>1.000000</td>\n",
       "      <td>0.000000</td>\n",
       "      <td>68.000000</td>\n",
       "      <td>7.000000</td>\n",
       "      <td>0.000000</td>\n",
       "      <td>36.600000</td>\n",
       "      <td>88.000000</td>\n",
       "      <td>94.000000</td>\n",
       "      <td>131.066502</td>\n",
       "      <td>75.09688</td>\n",
       "    </tr>\n",
       "    <tr>\n",
       "      <th>75%</th>\n",
       "      <td>1.000000</td>\n",
       "      <td>0.000000</td>\n",
       "      <td>98.000000</td>\n",
       "      <td>10.000000</td>\n",
       "      <td>0.000000</td>\n",
       "      <td>37.200000</td>\n",
       "      <td>100.000000</td>\n",
       "      <td>96.000000</td>\n",
       "      <td>141.000000</td>\n",
       "      <td>81.00000</td>\n",
       "    </tr>\n",
       "    <tr>\n",
       "      <th>max</th>\n",
       "      <td>1.000000</td>\n",
       "      <td>1.000000</td>\n",
       "      <td>106.000000</td>\n",
       "      <td>51.000000</td>\n",
       "      <td>36.000000</td>\n",
       "      <td>39.800000</td>\n",
       "      <td>593.000000</td>\n",
       "      <td>99.000000</td>\n",
       "      <td>200.000000</td>\n",
       "      <td>127.00000</td>\n",
       "    </tr>\n",
       "  </tbody>\n",
       "</table>\n",
       "</div>"
      ],
      "text/plain": [
       "               SEX       EXITUS          AGE  DAYS_HOSPITAL     DAYS_ICU  \\\n",
       "count  1551.000000  1551.000000  1551.000000    1551.000000  1551.000000   \n",
       "mean      0.600258     0.152160    71.218065       7.948420     0.290135   \n",
       "std       0.490003     0.359292    20.152968       5.433105     1.990532   \n",
       "min       0.000000     0.000000    15.000000       0.000000     0.000000   \n",
       "25%       0.000000     0.000000    57.000000       4.000000     0.000000   \n",
       "50%       1.000000     0.000000    68.000000       7.000000     0.000000   \n",
       "75%       1.000000     0.000000    98.000000      10.000000     0.000000   \n",
       "max       1.000000     1.000000   106.000000      51.000000    36.000000   \n",
       "\n",
       "              TEMP   HEART_RATE       SAT_O2  BLOOD_PRES_SYS  BLOOD_PRES_DIAS  \n",
       "count  1551.000000  1551.000000  1551.000000     1551.000000       1551.00000  \n",
       "mean     36.735977    88.253385    92.613153      131.066502         75.09688  \n",
       "std       0.813821    25.008765     6.422435       19.941586         11.27202  \n",
       "min      33.200000     0.000000    44.000000       10.000000         31.00000  \n",
       "25%      36.200000    78.000000    91.000000      121.000000         70.00000  \n",
       "50%      36.600000    88.000000    94.000000      131.066502         75.09688  \n",
       "75%      37.200000   100.000000    96.000000      141.000000         81.00000  \n",
       "max      39.800000   593.000000    99.000000      200.000000        127.00000  "
      ]
     },
     "execution_count": 10,
     "metadata": {},
     "output_type": "execute_result"
    }
   ],
   "source": [
    "# Statistical values for each variable\n",
    "# Aqui comentamos la gran desviacion tipica que presentan los valores clinicos, la tasa de exitus (a mayor mas mueren) y un poco\n",
    "# los intervalos de edad\n",
    "df_preprocessed.describe()\n"
   ]
  },
  {
   "cell_type": "code",
   "execution_count": 11,
   "id": "d59b4be4",
   "metadata": {},
   "outputs": [],
   "source": [
    "# Getting columns for future feature selection \n",
    "days_uci_col = df_preprocessed.pop('DAYS_ICU')\n",
    "\n",
    "exitus_col = df_preprocessed.pop('EXITUS')"
   ]
  },
  {
   "cell_type": "code",
   "execution_count": 12,
   "id": "dab4e495",
   "metadata": {
    "scrolled": true
   },
   "outputs": [
    {
     "name": "stdout",
     "output_type": "stream",
     "text": [
      "             AGE  DAYS_HOSPITAL  HEART_RATE  SAT_O2\n",
      "ID                                                 \n",
      "1      15.000000            4.0         0.0    92.0\n",
      "2      18.000000            4.0       105.0    97.0\n",
      "3      21.000000            7.0       112.0    95.0\n",
      "4      21.000000           10.0       113.0    97.0\n",
      "5      22.000000            4.0        80.0    92.0\n",
      "...          ...            ...         ...     ...\n",
      "2046  101.000000            2.0        84.0    95.0\n",
      "2047  102.000000            5.0        83.0    94.0\n",
      "2048  105.000000            4.0        74.0    98.0\n",
      "2049  106.000000            5.0        89.0    98.0\n",
      "2052   71.218065            6.0       190.0    98.0\n",
      "\n",
      "[1551 rows x 4 columns]\n"
     ]
    }
   ],
   "source": [
    "# Now we are going to perform a feature selection for icu days\n",
    "\n",
    "from sklearn.feature_selection import SelectKBest\n",
    "from sklearn.feature_selection import chi2\n",
    "\n",
    "fs_k_best_chi2 = SelectKBest(chi2, k=4)\n",
    "fs_k_best_chi2.fit(df_preprocessed, days_uci_col)\n",
    "col_filter = fs_k_best_chi2.get_support()\n",
    "df_k_best_chi2_icu_days = df_preprocessed.iloc[:, col_filter]\n",
    "\n",
    "print(df_k_best_chi2_icu_days)"
   ]
  },
  {
   "cell_type": "code",
   "execution_count": 13,
   "id": "e626645f",
   "metadata": {},
   "outputs": [
    {
     "name": "stdout",
     "output_type": "stream",
     "text": [
      "             AGE  HEART_RATE  SAT_O2  BLOOD_PRES_DIAS\n",
      "ID                                                   \n",
      "1      15.000000         0.0    92.0         75.09688\n",
      "2      18.000000       105.0    97.0         75.09688\n",
      "3      21.000000       112.0    95.0         47.00000\n",
      "4      21.000000       113.0    97.0         75.09688\n",
      "5      22.000000        80.0    92.0         70.00000\n",
      "...          ...         ...     ...              ...\n",
      "2046  101.000000        84.0    95.0         65.00000\n",
      "2047  102.000000        83.0    94.0         65.00000\n",
      "2048  105.000000        74.0    98.0         97.00000\n",
      "2049  106.000000        89.0    98.0         63.00000\n",
      "2052   71.218065       190.0    98.0         75.09688\n",
      "\n",
      "[1551 rows x 4 columns]\n"
     ]
    }
   ],
   "source": [
    "# Now we are going to perform a feature selection for exitus\n",
    "\n",
    "from sklearn.feature_selection import SelectKBest\n",
    "from sklearn.feature_selection import chi2\n",
    "\n",
    "fs_k_best_chi2 = SelectKBest(chi2, k=4)\n",
    "fs_k_best_chi2.fit(df_preprocessed, exitus_col)\n",
    "col_filter = fs_k_best_chi2.get_support()\n",
    "df_k_best_chi2_existus = df_preprocessed.iloc[:, col_filter]\n",
    "\n",
    "print(df_k_best_chi2_existus)"
   ]
  },
  {
   "cell_type": "code",
   "execution_count": 14,
   "id": "11d83a21",
   "metadata": {},
   "outputs": [
    {
     "data": {
      "image/png": "[encoded data removed]",
      "text/plain": [
       "<Figure size 1008x288 with 3 Axes>"
      ]
     },
     "metadata": {
      "needs_background": "light"
     },
     "output_type": "display_data"
    }
   ],
   "source": [
    "## Bivariate analysis based on the selected features for icu days\n",
    "\n",
    "# observamos la correlacion entre dias en hospital y dias en uci y la debil correlacion con las demas variables\n",
    "# nos parece indicar que hay cierta independencia entre ellas como luego se puede ver en el coeficiente de Pearson\n",
    "\n",
    "df_preprocessed['DAYS_ICU'] = days_uci_col\n",
    "\n",
    "plt.figure(figsize=(14,4))\n",
    "\n",
    "plt.subplot(1,3,1)\n",
    "df_preprocessed.plot(kind = \"scatter\", x = 'DAYS_HOSPITAL', y = 'DAYS_ICU', ax = plt.gca())\n",
    "\n",
    "plt.subplot(1,3,2)\n",
    "df_preprocessed.plot(kind = \"scatter\", x = 'BLOOD_PRES_SYS', y = 'DAYS_ICU', ax = plt.gca())\n",
    "\n",
    "plt.subplot(1,3,3)\n",
    "df_preprocessed.plot(kind = \"scatter\", x = 'BLOOD_PRES_DIAS', y = 'DAYS_ICU', ax = plt.gca())\n",
    "\n",
    "plt.show()"
   ]
  },
  {
   "cell_type": "code",
   "execution_count": 38,
   "id": "fe7291e3",
   "metadata": {},
   "outputs": [
    {
     "data": {
      "image/png": "[encoded data removed]",
      "text/plain": [
       "<Figure size 1152x288 with 4 Axes>"
      ]
     },
     "metadata": {
      "needs_background": "light"
     },
     "output_type": "display_data"
    }
   ],
   "source": [
    "# Bivariate analysis based on the selected features for exitus\n",
    "\n",
    "# aqui podemos obtener datos mas concluyentes repecto a la media de edad de los pacientes que mueren\n",
    "\n",
    "df_preprocessed['EXITUS'] = exitus_col\n",
    "\n",
    "group_df = df_preprocessed.groupby(['EXITUS'])\n",
    "\n",
    "age_groups = list(range(0, 120, 10))\n",
    "labels = ['0-9', '10-19', '20-29', '30-39', '40-49', '50-59', '60-69', '70-79', '80-89', '90-99', '100-109', '110-119']\n",
    "df_preprocessed['AGE-GROUP'] = pd.cut(df_preprocessed['AGE'], age_groups, labels, include_lowest=True)\n",
    "age_group_df = df_preprocessed.groupby(['AGE-GROUP'])\n",
    "\n",
    "plt.figure(figsize=(16,4))\n",
    "\n",
    "plt.subplot(1,4,1)\n",
    "group_df.mean()['AGE'].plot(kind = 'bar', title = 'Age vs exitus patients')\n",
    "\n",
    "plt.subplot(1,4,2)\n",
    "age_group_df.sum()['EXITUS'].plot(kind = 'bar', title = '#Exitus patients of each age group')\n",
    "\n",
    "plt.subplot(1,4,3)\n",
    "group_df.mean()['SAT_O2'].plot(kind = 'bar', title = 'O2 saturation vs exitus patients')\n",
    "\n",
    "plt.subplot(1,4,4)\n",
    "group_df.mean()['BLOOD_PRES_SYS'].plot(kind = 'bar', title = 'Blood presure systolic vs exitus patients')\n",
    "\n",
    "df_preprocessed.pop('AGE-GROUP')\n",
    "plt.show()"
   ]
  },
  {
   "cell_type": "code",
   "execution_count": 16,
   "id": "7e737878",
   "metadata": {},
   "outputs": [],
   "source": [
    "df_preprocessed.to_csv('csv/covid_preprocessed.csv', sep='\\t', encoding='utf-8')"
   ]
  },
  {
   "cell_type": "code",
   "execution_count": 17,
   "id": "b4410db2",
   "metadata": {},
   "outputs": [
    {
     "name": "stdout",
     "output_type": "stream",
     "text": [
      "                      SEX       AGE  DAYS_HOSPITAL      TEMP  HEART_RATE  \\\n",
      "SEX              1.000000 -0.128772       0.084339  0.119245    0.025697   \n",
      "AGE             -0.128772  1.000000       0.014289 -0.141241   -0.231035   \n",
      "DAYS_HOSPITAL    0.084339  0.014289       1.000000  0.137942    0.004184   \n",
      "TEMP             0.119245 -0.141241       0.137942  1.000000    0.139281   \n",
      "HEART_RATE       0.025697 -0.231035       0.004184  0.139281    1.000000   \n",
      "SAT_O2          -0.069466 -0.183792      -0.137208 -0.043377   -0.072278   \n",
      "BLOOD_PRES_SYS   0.052269  0.135023      -0.007430  0.041930    0.011008   \n",
      "BLOOD_PRES_DIAS  0.115121 -0.135203      -0.010455  0.033861    0.179048   \n",
      "DAYS_ICU         0.064084 -0.052427       0.360571  0.065479    0.037584   \n",
      "EXITUS           0.041553  0.383271      -0.012502 -0.001965   -0.025259   \n",
      "\n",
      "                   SAT_O2  BLOOD_PRES_SYS  BLOOD_PRES_DIAS  DAYS_ICU    EXITUS  \n",
      "SEX             -0.069466        0.052269         0.115121  0.064084  0.041553  \n",
      "AGE             -0.183792        0.135023        -0.135203 -0.052427  0.383271  \n",
      "DAYS_HOSPITAL   -0.137208       -0.007430        -0.010455  0.360571 -0.012502  \n",
      "TEMP            -0.043377        0.041930         0.033861  0.065479 -0.001965  \n",
      "HEART_RATE      -0.072278        0.011008         0.179048  0.037584 -0.025259  \n",
      "SAT_O2           1.000000       -0.011745         0.021552 -0.212458 -0.353319  \n",
      "BLOOD_PRES_SYS  -0.011745        1.000000         0.488299 -0.027271 -0.018859  \n",
      "BLOOD_PRES_DIAS  0.021552        0.488299         1.000000 -0.017646 -0.104115  \n",
      "DAYS_ICU        -0.212458       -0.027271        -0.017646  1.000000  0.104217  \n",
      "EXITUS          -0.353319       -0.018859        -0.104115  0.104217  1.000000  \n"
     ]
    }
   ],
   "source": [
    "# Pearson correlation coeficients\n",
    "print(df_preprocessed.corr(method = 'pearson'))"
   ]
  },
  {
   "cell_type": "code",
   "execution_count": 18,
   "id": "ee7aaba3",
   "metadata": {},
   "outputs": [
    {
     "data": {
      "text/plain": [
       "<AxesSubplot:xlabel='timeline'>"
      ]
     },
     "execution_count": 18,
     "metadata": {},
     "output_type": "execute_result"
    },
    {
     "data": {
      "image/png": "[encoded data removed]",
      "text/plain": [
       "<Figure size 432x288 with 1 Axes>"
      ]
     },
     "metadata": {
      "needs_background": "light"
     },
     "output_type": "display_data"
    }
   ],
   "source": [
    "# Kaplan-Meier curve for ICU and AGE\n",
    "\n",
    "# estan son las curvas que no se interpretar y que deberiamos indicar que no hemos sabido aplicarlas por desconocimiento\n",
    "\n",
    "kmf = KaplanMeierFitter()\n",
    "\n",
    "kmf.fit(df_preprocessed['AGE'], df_preprocessed['DAYS_ICU'],label='Kaplan Meier Estimate')\n",
    "\n",
    "kmf.plot()"
   ]
  },
  {
   "cell_type": "code",
   "execution_count": 19,
   "id": "eb14a64c",
   "metadata": {},
   "outputs": [
    {
     "data": {
      "text/plain": [
       "<AxesSubplot:xlabel='timeline'>"
      ]
     },
     "execution_count": 19,
     "metadata": {},
     "output_type": "execute_result"
    },
    {
     "data": {
      "image/png": "[encoded data removed]",
      "text/plain": [
       "<Figure size 432x288 with 1 Axes>"
      ]
     },
     "metadata": {
      "needs_background": "light"
     },
     "output_type": "display_data"
    }
   ],
   "source": [
    "# Kaplan-Meier curve for EXITUS and AGE\n",
    "\n",
    "kmf = KaplanMeierFitter()\n",
    "\n",
    "kmf.fit(df_preprocessed['AGE'], df_preprocessed['EXITUS'],label='Kaplan Meier Estimate')\n",
    "\n",
    "kmf.plot()"
   ]
  },
  {
   "cell_type": "code",
   "execution_count": null,
   "id": "ae53ea58",
   "metadata": {},
   "outputs": [],
   "source": []
  },
  {
   "cell_type": "code",
   "execution_count": null,
   "id": "9dcaae93",
   "metadata": {},
   "outputs": [],
   "source": []
  },
  {
   "cell_type": "code",
   "execution_count": null,
   "id": "cabeb49e",
   "metadata": {},
   "outputs": [],
   "source": []
  },
  {
   "cell_type": "code",
   "execution_count": null,
   "id": "2d0fb6d3",
   "metadata": {},
   "outputs": [],
   "source": []
  },
  {
   "cell_type": "code",
   "execution_count": null,
   "id": "e41913e0",
   "metadata": {},
   "outputs": [],
   "source": []
  }
 ],
 "metadata": {
  "kernelspec": {
   "display_name": "Python 3 (ipykernel)",
   "language": "python",
   "name": "python3"
  },
  "language_info": {
   "codemirror_mode": {
    "name": "ipython",
    "version": 3
   },
   "file_extension": ".py",
   "mimetype": "text/x-python",
   "name": "python",
   "nbconvert_exporter": "python",
   "pygments_lexer": "ipython3",
   "version": "3.10.1"
  }
 },
 "nbformat": 4,
 "nbformat_minor": 5
}
