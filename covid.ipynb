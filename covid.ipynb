{
 "cells": [
  {
   "cell_type": "code",
   "execution_count": 14,
   "id": "53e9cab5",
   "metadata": {},
   "outputs": [],
   "source": [
    "import pandas as pd\n",
    "import matplotlib.pyplot as plt\n",
    "import math\n",
    "from lifelines import KaplanMeierFitter\n"
   ]
  },
  {
   "cell_type": "code",
   "execution_count": 15,
   "id": "d61a8d08",
   "metadata": {},
   "outputs": [],
   "source": [
    "# Lectura de los datos\n",
    "df = pd.read_csv('COVID19_data.csv', index_col='ID')"
   ]
  },
  {
   "cell_type": "code",
   "execution_count": 16,
   "id": "65de3b64",
   "metadata": {},
   "outputs": [
    {
     "name": "stdout",
     "output_type": "stream",
     "text": [
      "AGE                 True\n",
      "SEX                 True\n",
      "DAYS_HOSPITAL      False\n",
      "DAYS_ICU           False\n",
      "EXITUS              True\n",
      "TEMP               False\n",
      "HEART_RATE         False\n",
      "GLUCOSE            False\n",
      "SAT_O2             False\n",
      "BLOOD_PRES_SYS     False\n",
      "BLOOD_PRES_DIAS    False\n",
      "dtype: bool\n",
      "\n",
      "         SEX EXITUS\n",
      "ID                 \n",
      "1     FEMALE     NO\n",
      "2     FEMALE     NO\n",
      "3       MALE     NO\n",
      "4       MALE     NO\n",
      "5       MALE     NO\n",
      "...      ...    ...\n",
      "2048  FEMALE     NO\n",
      "2049  FEMALE    YES\n",
      "2051  FEMALE     NO\n",
      "2052  FEMALE     NO\n",
      "2054    MALE     NO\n",
      "\n",
      "[1587 rows x 2 columns]\n",
      "\n",
      "        AGE  DAYS_HOSPITAL  DAYS_ICU  TEMP  HEART_RATE  GLUCOSE  SAT_O2  \\\n",
      "ID                                                                        \n",
      "1      15.0              4         0  37.0           0        0      92   \n",
      "2      18.0              4         0  37.3         105        0      97   \n",
      "3      21.0              7         0  38.5         112        0      95   \n",
      "4      21.0             10         0  39.2         113        0      97   \n",
      "5      22.0              4         0  36.3          80        0      92   \n",
      "...     ...            ...       ...   ...         ...      ...     ...   \n",
      "2048  105.0              4         0  36.4          74        0      98   \n",
      "2049  106.0              5         0  38.2          89        0      98   \n",
      "2051    NaN              3         0  36.5           0        0       0   \n",
      "2052    NaN              6         6  36.8         190        0      98   \n",
      "2054    NaN              3         0  36.8           0        0       0   \n",
      "\n",
      "      BLOOD_PRES_SYS  BLOOD_PRES_DIAS  \n",
      "ID                                     \n",
      "1                  0                0  \n",
      "2                  0                0  \n",
      "3                 85               47  \n",
      "4                  0                0  \n",
      "5                111               70  \n",
      "...              ...              ...  \n",
      "2048             169               97  \n",
      "2049             143               63  \n",
      "2051               0                0  \n",
      "2052               0                0  \n",
      "2054               0                0  \n",
      "\n",
      "[1587 rows x 9 columns]\n"
     ]
    }
   ],
   "source": [
    "# Preprocessing of the data\n",
    "# Columna eliminada por la gran cantidad de valores nulos\n",
    "df.pop('DESTINATION')\n",
    "\n",
    "# Deletion of rows with error values for temperature\n",
    "df = df.drop(df[df['TEMP'] <= 10].index)\n",
    "\n",
    "# Check which columns have null values\n",
    "print(df.isnull().any())\n",
    "print()\n",
    "# Spit data frame between categorical and numerical variables in order to treat null values in categorical variables\n",
    "cat_mask = (df.dtypes == object)\n",
    "\n",
    "cat_cols = df.columns[cat_mask].tolist()\n",
    "\n",
    "df_cat = df[cat_cols]\n",
    "df_num = df.drop(cat_cols, axis = 1)\n",
    "\n",
    "print(df_cat)\n",
    "print()\n",
    "print(df_num)"
   ]
  },
  {
   "cell_type": "code",
   "execution_count": 17,
   "id": "2ac8eb86",
   "metadata": {},
   "outputs": [
    {
     "name": "stdout",
     "output_type": "stream",
     "text": [
      "SEX       False\n",
      "EXITUS    False\n",
      "dtype: bool\n"
     ]
    }
   ],
   "source": [
    "# Transformation of missing values in categorical data frame\n",
    "\n",
    "from sklearn.impute import SimpleImputer\n",
    "\n",
    "imp_cat = SimpleImputer(strategy='most_frequent')\n",
    "columns = df_cat.columns\n",
    "index = df_cat.index\n",
    "df_cat = pd.DataFrame(imp_cat.fit_transform(df_cat), columns = columns, index = index) \n",
    "\n",
    "print(df_cat.isnull().any())"
   ]
  },
  {
   "cell_type": "code",
   "execution_count": 18,
   "id": "27d177c3",
   "metadata": {},
   "outputs": [
    {
     "name": "stdout",
     "output_type": "stream",
     "text": [
      "      SEX  EXITUS\n",
      "ID               \n",
      "1       0       0\n",
      "2       0       0\n",
      "3       1       0\n",
      "4       1       0\n",
      "5       1       0\n",
      "...   ...     ...\n",
      "2048    0       0\n",
      "2049    0       1\n",
      "2051    0       0\n",
      "2052    0       0\n",
      "2054    1       0\n",
      "\n",
      "[1587 rows x 2 columns]\n"
     ]
    }
   ],
   "source": [
    "# Next we are going to transform the variables to numerical. Due to being both binary variables,\n",
    "# a value will be assigned to each category for simplicity. For Sex 0 = Female, 1 = Male; for Exitus 0 = No, 1 = Yes\n",
    "\n",
    "from sklearn import preprocessing\n",
    "from collections import defaultdict\n",
    "\n",
    "d = defaultdict(preprocessing.LabelEncoder)\n",
    "\n",
    "df_cat_le = df_cat.apply(lambda col: d[col.name].fit_transform(col))\n",
    "print(df_cat_le)"
   ]
  },
  {
   "cell_type": "code",
   "execution_count": 19,
   "id": "92bb70a4",
   "metadata": {},
   "outputs": [
    {
     "name": "stdout",
     "output_type": "stream",
     "text": [
      "AGE                False\n",
      "DAYS_HOSPITAL      False\n",
      "DAYS_ICU           False\n",
      "TEMP               False\n",
      "HEART_RATE         False\n",
      "GLUCOSE            False\n",
      "SAT_O2             False\n",
      "BLOOD_PRES_SYS     False\n",
      "BLOOD_PRES_DIAS    False\n",
      "dtype: bool\n"
     ]
    }
   ],
   "source": [
    "# Now we are going to treat missing values in numerical variables\n",
    "\n",
    "imp_num = SimpleImputer(strategy='mean')\n",
    "columns = df_num.columns\n",
    "index = df_num.index\n",
    "df_num = pd.DataFrame(imp_num.fit_transform(df_num), columns = columns, index = index)\n",
    "\n",
    "print(df_num.isnull().any())"
   ]
  },
  {
   "cell_type": "code",
   "execution_count": 20,
   "id": "8658aed7",
   "metadata": {},
   "outputs": [
    {
     "name": "stdout",
     "output_type": "stream",
     "text": [
      "      SEX  EXITUS         AGE  DAYS_HOSPITAL  DAYS_ICU  TEMP  HEART_RATE  \\\n",
      "ID                                                                         \n",
      "1       0       0   15.000000            4.0       0.0  37.0         0.0   \n",
      "2       0       0   18.000000            4.0       0.0  37.3       105.0   \n",
      "3       1       0   21.000000            7.0       0.0  38.5       112.0   \n",
      "4       1       0   21.000000           10.0       0.0  39.2       113.0   \n",
      "5       1       0   22.000000            4.0       0.0  36.3        80.0   \n",
      "...   ...     ...         ...            ...       ...   ...         ...   \n",
      "2048    0       0  105.000000            4.0       0.0  36.4        74.0   \n",
      "2049    0       1  106.000000            5.0       0.0  38.2        89.0   \n",
      "2051    0       0   71.106692            3.0       0.0  36.5         0.0   \n",
      "2052    0       0   71.106692            6.0       6.0  36.8       190.0   \n",
      "2054    1       0   71.106692            3.0       0.0  36.8         0.0   \n",
      "\n",
      "      GLUCOSE  SAT_O2  BLOOD_PRES_SYS  BLOOD_PRES_DIAS  \n",
      "ID                                                      \n",
      "1         0.0    92.0             0.0              0.0  \n",
      "2         0.0    97.0             0.0              0.0  \n",
      "3         0.0    95.0            85.0             47.0  \n",
      "4         0.0    97.0             0.0              0.0  \n",
      "5         0.0    92.0           111.0             70.0  \n",
      "...       ...     ...             ...              ...  \n",
      "2048      0.0    98.0           169.0             97.0  \n",
      "2049      0.0    98.0           143.0             63.0  \n",
      "2051      0.0     0.0             0.0              0.0  \n",
      "2052      0.0    98.0             0.0              0.0  \n",
      "2054      0.0     0.0             0.0              0.0  \n",
      "\n",
      "[1587 rows x 11 columns]\n"
     ]
    }
   ],
   "source": [
    "# Merge of the preprocessed data frames\n",
    "\n",
    "df_preprocessed = pd.merge(left= df_cat_le,\n",
    "                           right= df_num,\n",
    "                           on = 'ID')\n",
    "\n",
    "print(df_preprocessed)"
   ]
  },
  {
   "cell_type": "code",
   "execution_count": 21,
   "id": "c9e728ea",
   "metadata": {},
   "outputs": [
    {
     "data": {
      "image/png": "[encoded data removed]",
      "text/plain": [
       "<Figure size 1080x1080 with 11 Axes>"
      ]
     },
     "metadata": {
      "needs_background": "light"
     },
     "output_type": "display_data"
    }
   ],
   "source": [
    "# Exploratory analysis of the data so far\n",
    "\n",
    "# Distribution of the variables, univariate analysis\n",
    "# Aqui comentarios respecto a la distribucion de cada variable haciendo hincapie en\n",
    "# edad, exitus, dias en uci, dias en hospital, gluclosa, saturacion O2 y presion arterial (tanto sistolica como diastolica)\n",
    "# Descartamos sexo, temperatura y latidos del corazon al ser poco relevantes\n",
    "\n",
    "plt.figure(figsize=(15,15))\n",
    "\n",
    "plt.subplot(3,5,1)\n",
    "df_preprocessed['SEX'].value_counts().plot(kind=\"bar\", title = 'SEX')\n",
    "\n",
    "plt.subplot(3,5,2)\n",
    "df_preprocessed[\"EXITUS\"].value_counts().plot(kind=\"bar\", title = 'EXITUS')\n",
    "\n",
    "plt.subplot(3,5,3)\n",
    "df_preprocessed['AGE'].plot(kind=\"box\", title = 'AGE')\n",
    "\n",
    "plt.subplot(3,5,4)\n",
    "df_preprocessed['DAYS_HOSPITAL'].plot(kind=\"hist\", title = 'DAYS IN HOSPITAL')\n",
    "\n",
    "plt.subplot(3,5,5)\n",
    "df_preprocessed['DAYS_ICU'].plot(kind=\"hist\", title = 'DAYS IN ICU')\n",
    "\n",
    "# detected outlier with temperature 0\n",
    "plt.subplot(3,5,6)\n",
    "df_preprocessed['TEMP'].plot(kind=\"box\", title = 'TEMPERATURE')\n",
    "\n",
    "plt.subplot(3,5,7)\n",
    "df_preprocessed['HEART_RATE'].plot(kind=\"hist\", title = 'HEART RATE')\n",
    "\n",
    "plt.subplot(3,5,8)\n",
    "df_preprocessed['GLUCOSE'].plot(kind=\"hist\", title = 'GLUCOSE LEVELS')\n",
    "\n",
    "plt.subplot(3,5,9)\n",
    "df_preprocessed['SAT_O2'].plot(kind=\"box\", title = 'ARTERIAL SATURATION OXYGEN')\n",
    "\n",
    "plt.subplot(3,5,10)\n",
    "df_preprocessed['BLOOD_PRES_SYS'].plot(kind=\"box\", title = 'BLOOD PRESURE SYSTOLIC')\n",
    "\n",
    "plt.subplot(3,5,11)\n",
    "df_preprocessed['BLOOD_PRES_DIAS'].plot(kind=\"box\", title = 'BLOOD PRESURE DIASTOLIC')\n",
    "\n",
    "plt.show()\n"
   ]
  },
  {
   "cell_type": "code",
   "execution_count": 22,
   "id": "749d8f3e",
   "metadata": {},
   "outputs": [
    {
     "data": {
      "text/html": [
       "<div>\n",
       "<style scoped>\n",
       "    .dataframe tbody tr th:only-of-type {\n",
       "        vertical-align: middle;\n",
       "    }\n",
       "\n",
       "    .dataframe tbody tr th {\n",
       "        vertical-align: top;\n",
       "    }\n",
       "\n",
       "    .dataframe thead th {\n",
       "        text-align: right;\n",
       "    }\n",
       "</style>\n",
       "<table border=\"1\" class=\"dataframe\">\n",
       "  <thead>\n",
       "    <tr style=\"text-align: right;\">\n",
       "      <th></th>\n",
       "      <th>SEX</th>\n",
       "      <th>EXITUS</th>\n",
       "      <th>AGE</th>\n",
       "      <th>DAYS_HOSPITAL</th>\n",
       "      <th>DAYS_ICU</th>\n",
       "      <th>TEMP</th>\n",
       "      <th>HEART_RATE</th>\n",
       "      <th>GLUCOSE</th>\n",
       "      <th>SAT_O2</th>\n",
       "      <th>BLOOD_PRES_SYS</th>\n",
       "      <th>BLOOD_PRES_DIAS</th>\n",
       "    </tr>\n",
       "  </thead>\n",
       "  <tbody>\n",
       "    <tr>\n",
       "      <th>count</th>\n",
       "      <td>1587.000000</td>\n",
       "      <td>1587.000000</td>\n",
       "      <td>1587.000000</td>\n",
       "      <td>1587.000000</td>\n",
       "      <td>1587.000000</td>\n",
       "      <td>1587.000000</td>\n",
       "      <td>1587.000000</td>\n",
       "      <td>1587.000000</td>\n",
       "      <td>1587.000000</td>\n",
       "      <td>1587.000000</td>\n",
       "      <td>1587.000000</td>\n",
       "    </tr>\n",
       "    <tr>\n",
       "      <th>mean</th>\n",
       "      <td>0.599874</td>\n",
       "      <td>0.153749</td>\n",
       "      <td>71.106692</td>\n",
       "      <td>7.975425</td>\n",
       "      <td>0.284814</td>\n",
       "      <td>36.739445</td>\n",
       "      <td>87.560176</td>\n",
       "      <td>2.148708</td>\n",
       "      <td>90.700693</td>\n",
       "      <td>102.926906</td>\n",
       "      <td>59.639572</td>\n",
       "    </tr>\n",
       "    <tr>\n",
       "      <th>std</th>\n",
       "      <td>0.490078</td>\n",
       "      <td>0.360822</td>\n",
       "      <td>20.193249</td>\n",
       "      <td>5.506390</td>\n",
       "      <td>1.968744</td>\n",
       "      <td>0.820770</td>\n",
       "      <td>26.109250</td>\n",
       "      <td>22.839272</td>\n",
       "      <td>14.630351</td>\n",
       "      <td>59.923656</td>\n",
       "      <td>42.023712</td>\n",
       "    </tr>\n",
       "    <tr>\n",
       "      <th>min</th>\n",
       "      <td>0.000000</td>\n",
       "      <td>0.000000</td>\n",
       "      <td>15.000000</td>\n",
       "      <td>0.000000</td>\n",
       "      <td>0.000000</td>\n",
       "      <td>33.200000</td>\n",
       "      <td>0.000000</td>\n",
       "      <td>0.000000</td>\n",
       "      <td>0.000000</td>\n",
       "      <td>0.000000</td>\n",
       "      <td>0.000000</td>\n",
       "    </tr>\n",
       "    <tr>\n",
       "      <th>25%</th>\n",
       "      <td>0.000000</td>\n",
       "      <td>0.000000</td>\n",
       "      <td>57.000000</td>\n",
       "      <td>4.000000</td>\n",
       "      <td>0.000000</td>\n",
       "      <td>36.200000</td>\n",
       "      <td>77.500000</td>\n",
       "      <td>0.000000</td>\n",
       "      <td>91.000000</td>\n",
       "      <td>95.500000</td>\n",
       "      <td>53.000000</td>\n",
       "    </tr>\n",
       "    <tr>\n",
       "      <th>50%</th>\n",
       "      <td>1.000000</td>\n",
       "      <td>0.000000</td>\n",
       "      <td>68.000000</td>\n",
       "      <td>7.000000</td>\n",
       "      <td>0.000000</td>\n",
       "      <td>36.600000</td>\n",
       "      <td>88.000000</td>\n",
       "      <td>0.000000</td>\n",
       "      <td>94.000000</td>\n",
       "      <td>123.000000</td>\n",
       "      <td>71.000000</td>\n",
       "    </tr>\n",
       "    <tr>\n",
       "      <th>75%</th>\n",
       "      <td>1.000000</td>\n",
       "      <td>0.000000</td>\n",
       "      <td>98.000000</td>\n",
       "      <td>10.000000</td>\n",
       "      <td>0.000000</td>\n",
       "      <td>37.200000</td>\n",
       "      <td>100.000000</td>\n",
       "      <td>0.000000</td>\n",
       "      <td>96.000000</td>\n",
       "      <td>141.000000</td>\n",
       "      <td>81.000000</td>\n",
       "    </tr>\n",
       "    <tr>\n",
       "      <th>max</th>\n",
       "      <td>1.000000</td>\n",
       "      <td>1.000000</td>\n",
       "      <td>106.000000</td>\n",
       "      <td>51.000000</td>\n",
       "      <td>36.000000</td>\n",
       "      <td>40.100000</td>\n",
       "      <td>593.000000</td>\n",
       "      <td>448.000000</td>\n",
       "      <td>99.000000</td>\n",
       "      <td>772.000000</td>\n",
       "      <td>845.000000</td>\n",
       "    </tr>\n",
       "  </tbody>\n",
       "</table>\n",
       "</div>"
      ],
      "text/plain": [
       "               SEX       EXITUS          AGE  DAYS_HOSPITAL     DAYS_ICU  \\\n",
       "count  1587.000000  1587.000000  1587.000000    1587.000000  1587.000000   \n",
       "mean      0.599874     0.153749    71.106692       7.975425     0.284814   \n",
       "std       0.490078     0.360822    20.193249       5.506390     1.968744   \n",
       "min       0.000000     0.000000    15.000000       0.000000     0.000000   \n",
       "25%       0.000000     0.000000    57.000000       4.000000     0.000000   \n",
       "50%       1.000000     0.000000    68.000000       7.000000     0.000000   \n",
       "75%       1.000000     0.000000    98.000000      10.000000     0.000000   \n",
       "max       1.000000     1.000000   106.000000      51.000000    36.000000   \n",
       "\n",
       "              TEMP   HEART_RATE      GLUCOSE       SAT_O2  BLOOD_PRES_SYS  \\\n",
       "count  1587.000000  1587.000000  1587.000000  1587.000000     1587.000000   \n",
       "mean     36.739445    87.560176     2.148708    90.700693      102.926906   \n",
       "std       0.820770    26.109250    22.839272    14.630351       59.923656   \n",
       "min      33.200000     0.000000     0.000000     0.000000        0.000000   \n",
       "25%      36.200000    77.500000     0.000000    91.000000       95.500000   \n",
       "50%      36.600000    88.000000     0.000000    94.000000      123.000000   \n",
       "75%      37.200000   100.000000     0.000000    96.000000      141.000000   \n",
       "max      40.100000   593.000000   448.000000    99.000000      772.000000   \n",
       "\n",
       "       BLOOD_PRES_DIAS  \n",
       "count      1587.000000  \n",
       "mean         59.639572  \n",
       "std          42.023712  \n",
       "min           0.000000  \n",
       "25%          53.000000  \n",
       "50%          71.000000  \n",
       "75%          81.000000  \n",
       "max         845.000000  "
      ]
     },
     "execution_count": 22,
     "metadata": {},
     "output_type": "execute_result"
    }
   ],
   "source": [
    "# Statistical values for each variable\n",
    "# Aqui comentamos la gran desviacion tipica que presentan los valores clinicos, la tasa de exitus (a mayor mas mueren) y un poco\n",
    "# los intervalos de edad\n",
    "df_preprocessed.describe()\n"
   ]
  },
  {
   "cell_type": "code",
   "execution_count": 23,
   "id": "d59b4be4",
   "metadata": {},
   "outputs": [],
   "source": [
    "# Getting columns for future feature selecetion \n",
    "days_uci_col = df_preprocessed.pop('DAYS_ICU')\n",
    "\n",
    "exitus_col = df_preprocessed.pop('EXITUS')"
   ]
  },
  {
   "cell_type": "code",
   "execution_count": 24,
   "id": "dab4e495",
   "metadata": {
    "scrolled": true
   },
   "outputs": [
    {
     "name": "stdout",
     "output_type": "stream",
     "text": [
      "      DAYS_HOSPITAL  GLUCOSE  BLOOD_PRES_SYS  BLOOD_PRES_DIAS\n",
      "ID                                                           \n",
      "1               4.0      0.0             0.0              0.0\n",
      "2               4.0      0.0             0.0              0.0\n",
      "3               7.0      0.0            85.0             47.0\n",
      "4              10.0      0.0             0.0              0.0\n",
      "5               4.0      0.0           111.0             70.0\n",
      "...             ...      ...             ...              ...\n",
      "2048            4.0      0.0           169.0             97.0\n",
      "2049            5.0      0.0           143.0             63.0\n",
      "2051            3.0      0.0             0.0              0.0\n",
      "2052            6.0      0.0             0.0              0.0\n",
      "2054            3.0      0.0             0.0              0.0\n",
      "\n",
      "[1587 rows x 4 columns]\n"
     ]
    }
   ],
   "source": [
    "# Now we are going to perform a feature selection for icu days\n",
    "\n",
    "from sklearn.feature_selection import SelectKBest\n",
    "from sklearn.feature_selection import chi2\n",
    "\n",
    "fs_k_best_chi2 = SelectKBest(chi2, k=4)\n",
    "fs_k_best_chi2.fit(df_preprocessed, days_uci_col)\n",
    "col_filter = fs_k_best_chi2.get_support()\n",
    "df_k_best_chi2_icu_days = df_preprocessed.iloc[:, col_filter]\n",
    "\n",
    "print(df_k_best_chi2_icu_days)"
   ]
  },
  {
   "cell_type": "code",
   "execution_count": 25,
   "id": "e626645f",
   "metadata": {},
   "outputs": [
    {
     "name": "stdout",
     "output_type": "stream",
     "text": [
      "             AGE  GLUCOSE  SAT_O2  BLOOD_PRES_SYS\n",
      "ID                                               \n",
      "1      15.000000      0.0    92.0             0.0\n",
      "2      18.000000      0.0    97.0             0.0\n",
      "3      21.000000      0.0    95.0            85.0\n",
      "4      21.000000      0.0    97.0             0.0\n",
      "5      22.000000      0.0    92.0           111.0\n",
      "...          ...      ...     ...             ...\n",
      "2048  105.000000      0.0    98.0           169.0\n",
      "2049  106.000000      0.0    98.0           143.0\n",
      "2051   71.106692      0.0     0.0             0.0\n",
      "2052   71.106692      0.0    98.0             0.0\n",
      "2054   71.106692      0.0     0.0             0.0\n",
      "\n",
      "[1587 rows x 4 columns]\n"
     ]
    }
   ],
   "source": [
    "# Now we are going to perform a feature selection for exitus\n",
    "\n",
    "from sklearn.feature_selection import SelectKBest\n",
    "from sklearn.feature_selection import chi2\n",
    "\n",
    "fs_k_best_chi2 = SelectKBest(chi2, k=4)\n",
    "fs_k_best_chi2.fit(df_preprocessed, exitus_col)\n",
    "col_filter = fs_k_best_chi2.get_support()\n",
    "df_k_best_chi2_existus = df_preprocessed.iloc[:, col_filter]\n",
    "\n",
    "print(df_k_best_chi2_existus)"
   ]
  },
  {
   "cell_type": "code",
   "execution_count": 26,
   "id": "bb8e7ebf",
   "metadata": {},
   "outputs": [
    {
     "data": {
      "image/png": "[encoded data removed]",
      "text/plain": [
       "<Figure size 576x576 with 4 Axes>"
      ]
     },
     "metadata": {
      "needs_background": "light"
     },
     "output_type": "display_data"
    }
   ],
   "source": [
    "# Bivariate analysis based on the selected features for icu days\n",
    "\n",
    "# observamos la correlacion entre dias en hospital y dias en uci y la debil correlacion con las demas variables\n",
    "# nos parece indicar que hay cierta independencia entre ellas como luego se puede ver en el coeficiente de Pearson\n",
    "\n",
    "df_preprocessed['DAYS_ICU'] = days_uci_col\n",
    "\n",
    "plt.figure(figsize=(8,8))\n",
    "\n",
    "plt.subplot(2,2,1)\n",
    "df_preprocessed.plot(kind = \"scatter\", x = 'DAYS_HOSPITAL', y = 'DAYS_ICU', ax = plt.gca())\n",
    "\n",
    "plt.subplot(2,2,2)\n",
    "df_preprocessed.plot(kind = \"scatter\", x = 'GLUCOSE', y = 'DAYS_ICU', ax = plt.gca())\n",
    "\n",
    "plt.subplot(2,2,3)\n",
    "df_preprocessed.plot(kind = \"scatter\", x = 'BLOOD_PRES_SYS', y = 'DAYS_ICU', ax = plt.gca())\n",
    "\n",
    "plt.subplot(2,2,4)\n",
    "df_preprocessed.plot(kind = \"scatter\", x = 'BLOOD_PRES_DIAS', y = 'DAYS_ICU', ax = plt.gca())\n",
    "\n",
    "plt.show()"
   ]
  },
  {
   "cell_type": "code",
   "execution_count": 35,
   "id": "fe7291e3",
   "metadata": {},
   "outputs": [
    {
     "data": {
      "image/png": "[encoded data removed]",
      "text/plain": [
       "<Figure size 576x576 with 4 Axes>"
      ]
     },
     "metadata": {
      "needs_background": "light"
     },
     "output_type": "display_data"
    }
   ],
   "source": [
    "# Bivariate analysis based on the selected features for exitus\n",
    "\n",
    "# aqui podemos obtener datos mas concluyentes repecto a la media de edad de los pacientes que mueren\n",
    "# asi como la mayor tasas de glucosa\n",
    "#\n",
    "\n",
    "df_preprocessed['EXITUS'] = exitus_col\n",
    "\n",
    "group_df = df_preprocessed.groupby(['EXITUS'])\n",
    "\n",
    "plt.figure(figsize=(8,8))\n",
    "\n",
    "plt.subplot(2,2,1)\n",
    "group_df.mean()['AGE'].plot(kind = 'bar', title = 'Age vs exitus pacients')\n",
    "\n",
    "plt.subplot(2,2,2)\n",
    "group_df.mean()['GLUCOSE'].plot(kind = 'bar', title = 'Glocuse vs exitus pacients')\n",
    "\n",
    "plt.subplot(2,2,3)\n",
    "group_df.mean()['SAT_O2'].plot(kind = 'bar', title = 'O2 saturation vs exitus pacients')\n",
    "\n",
    "plt.subplot(2,2,4)\n",
    "group_df.mean()['BLOOD_PRES_SYS'].plot(kind = 'bar', title = 'Blood presure systolic vs exitus pacients')\n",
    "\n",
    "plt.show()"
   ]
  },
  {
   "cell_type": "code",
   "execution_count": 40,
   "id": "7e737878",
   "metadata": {},
   "outputs": [],
   "source": [
    "df_preprocessed.to_csv('covid_preprocessed.csv', sep='\\t', encoding='utf-8')"
   ]
  },
  {
   "cell_type": "code",
   "execution_count": 199,
   "id": "b4410db2",
   "metadata": {},
   "outputs": [
    {
     "name": "stdout",
     "output_type": "stream",
     "text": [
      "                      SEX       AGE  DAYS_HOSPITAL      TEMP  HEART_RATE  \\\n",
      "SEX              1.000000 -0.127009       0.080000  0.119206    0.025363   \n",
      "AGE             -0.127009  1.000000       0.018655 -0.143929   -0.205502   \n",
      "DAYS_HOSPITAL    0.080000  0.018655       1.000000  0.127630    0.007718   \n",
      "TEMP             0.119206 -0.143929       0.127630  1.000000    0.135563   \n",
      "HEART_RATE       0.025363 -0.205502       0.007718  0.135563    1.000000   \n",
      "GLUCOSE          0.002334  0.008643      -0.009983 -0.013912   -0.009331   \n",
      "SAT_O2          -0.022869 -0.054070      -0.088697 -0.043616    0.134493   \n",
      "BLOOD_PRES_SYS   0.010490  0.126423       0.033332  0.076063    0.063978   \n",
      "BLOOD_PRES_DIAS  0.014240  0.044170       0.041016  0.067387    0.101222   \n",
      "DAYS_ICU         0.062642 -0.050063       0.350957  0.062654    0.037250   \n",
      "EXITUS           0.037906  0.386208       0.002538 -0.011762   -0.022935   \n",
      "\n",
      "                  GLUCOSE    SAT_O2  BLOOD_PRES_SYS  BLOOD_PRES_DIAS  \\\n",
      "SEX              0.002334 -0.022869        0.010490         0.014240   \n",
      "AGE              0.008643 -0.054070        0.126423         0.044170   \n",
      "DAYS_HOSPITAL   -0.009983 -0.088697        0.033332         0.041016   \n",
      "TEMP            -0.013912 -0.043616        0.076063         0.067387   \n",
      "HEART_RATE      -0.009331  0.134493        0.063978         0.101222   \n",
      "GLUCOSE          1.000000  0.005354        0.020190         0.005259   \n",
      "SAT_O2           0.005354  1.000000        0.002486         0.011129   \n",
      "BLOOD_PRES_SYS   0.020190  0.002486        1.000000         0.724561   \n",
      "BLOOD_PRES_DIAS  0.005259  0.011129        0.724561         1.000000   \n",
      "DAYS_ICU        -0.010436 -0.077289        0.015446         0.013001   \n",
      "EXITUS           0.007170 -0.183695        0.061438         0.019126   \n",
      "\n",
      "                 DAYS_ICU    EXITUS  \n",
      "SEX              0.062642  0.037906  \n",
      "AGE             -0.050063  0.386208  \n",
      "DAYS_HOSPITAL    0.350957  0.002538  \n",
      "TEMP             0.062654 -0.011762  \n",
      "HEART_RATE       0.037250 -0.022935  \n",
      "GLUCOSE         -0.010436  0.007170  \n",
      "SAT_O2          -0.077289 -0.183695  \n",
      "BLOOD_PRES_SYS   0.015446  0.061438  \n",
      "BLOOD_PRES_DIAS  0.013001  0.019126  \n",
      "DAYS_ICU         1.000000  0.103410  \n",
      "EXITUS           0.103410  1.000000  \n"
     ]
    }
   ],
   "source": [
    "# Pearson correlation coeficients\n",
    "print(df_preprocessed.corr(method = 'pearson'))"
   ]
  },
  {
   "cell_type": "code",
   "execution_count": 209,
   "id": "ee7aaba3",
   "metadata": {},
   "outputs": [
    {
     "data": {
      "text/plain": [
       "<AxesSubplot:xlabel='timeline'>"
      ]
     },
     "execution_count": 209,
     "metadata": {},
     "output_type": "execute_result"
    },
    {
     "data": {
      "image/png": "[encoded data removed]",
      "text/plain": [
       "<Figure size 432x288 with 1 Axes>"
      ]
     },
     "metadata": {
      "needs_background": "light"
     },
     "output_type": "display_data"
    }
   ],
   "source": [
    "# Kaplan-Meier curve for ICU and AGE\n",
    "\n",
    "# estan son las curvas que no se interpretar y que deberiamos indicar que no hemos sabido aplicarlas por desconocimiento\n",
    "\n",
    "kmf = KaplanMeierFitter()\n",
    "\n",
    "kmf.fit(df_preprocessed['AGE'], df_preprocessed['DAYS_ICU'],label='Kaplan Meier Estimate')\n",
    "\n",
    "kmf.plot()"
   ]
  },
  {
   "cell_type": "code",
   "execution_count": 208,
   "id": "eb14a64c",
   "metadata": {},
   "outputs": [
    {
     "data": {
      "text/plain": [
       "<AxesSubplot:xlabel='timeline'>"
      ]
     },
     "execution_count": 208,
     "metadata": {},
     "output_type": "execute_result"
    },
    {
     "data": {
      "image/png": "[encoded data removed]",
      "text/plain": [
       "<Figure size 432x288 with 1 Axes>"
      ]
     },
     "metadata": {
      "needs_background": "light"
     },
     "output_type": "display_data"
    }
   ],
   "source": [
    "# Kaplan-Meier curve for EXITUS and AGE\n",
    "\n",
    "kmf = KaplanMeierFitter()\n",
    "\n",
    "kmf.fit(df_preprocessed['AGE'], df_preprocessed['EXITUS'],label='Kaplan Meier Estimate')\n",
    "\n",
    "kmf.plot()"
   ]
  }
 ],
 "metadata": {
  "kernelspec": {
   "display_name": "Python 3",
   "language": "python",
   "name": "python3"
  },
  "language_info": {
   "codemirror_mode": {
    "name": "ipython",
    "version": 3
   },
   "file_extension": ".py",
   "mimetype": "text/x-python",
   "name": "python",
   "nbconvert_exporter": "python",
   "pygments_lexer": "ipython3",
   "version": "3.8.8"
  }
 },
 "nbformat": 4,
 "nbformat_minor": 5
}
